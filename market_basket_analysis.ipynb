#  Market Basket Analysis
# Developed by: [Your Name]
# Internship: Codec Technologies - Data Analytics

# Import Libraries
import pandas as pd
from mlxtend.frequent_patterns import apriori, association_rules
import matplotlib.pyplot as plt
import seaborn as sns

# ------------------------------
# Step 1: Load the dataset
# ------------------------------
data = pd.read_csv('dataset.csv')
print("Dataset loaded successfully ✅")
print(data.head())

# ------------------------------
# Step 2: Preprocess data
# ------------------------------
# Group by transaction ID and items, then create a one-hot encoded dataframe
basket = (data.groupby(['Transaction', 'Item'])['Item']
          .count().unstack().reset_index().fillna(0).set_index('Transaction'))

# Convert counts to 1/0 for presence of item
basket = basket.applymap(lambda x: 1 if x > 0 else 0)
print("\nTransformed Basket Data (first 5 rows):")
print(basket.head())

# ------------------------------
# Step 3: Apply Apriori Algorithm
# ------------------------------
frequent_itemsets = apriori(basket, min_support=0.02, use_colnames=True)
print("\nFrequent Itemsets Found:")
print(frequent_itemsets.head())

# ------------------------------
# Step 4: Generate Association Rules
# ------------------------------
rules = association_rules(frequent_itemsets, metric="lift", min_threshold=1.0)
print("\nAssociation Rules:")
print(rules[['antecedents', 'consequents', 'support', 'confidence', 'lift']].head())

# ------------------------------
# Step 5: Visualize Frequent Itemsets
# ------------------------------
plt.figure(figsize=(10,6))
sns.barplot(x='support', y='itemsets', data=frequent_itemsets.nlargest(10, 'support'))
plt.title('Top 10 Frequent Itemsets')
plt.xlabel('Support')
plt.ylabel('Itemsets')
plt.show()

# ------------------------------
# Step 6: Insights
# ------------------------------
print("\n✅ Insights Example:")
print("1️⃣ Customers who buy Bread often also buy Butter.")
print("2️⃣ Milk and Cookies have a high lift value, indicating strong association.")
print("3️⃣ Such insights can help in cross-selling and product placement.")
